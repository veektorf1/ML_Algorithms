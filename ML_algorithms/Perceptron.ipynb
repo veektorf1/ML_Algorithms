{
 "cells": [
  {
   "cell_type": "code",
   "execution_count": 18,
   "metadata": {},
   "outputs": [
    {
     "data": {
      "text/plain": [
       "<matplotlib.legend.Legend at 0x77b749b72480>"
      ]
     },
     "execution_count": 18,
     "metadata": {},
     "output_type": "execute_result"
    },
    {
     "data": {
      "image/png": "[encoded data removed]",
      "text/plain": [
       "<Figure size 640x480 with 1 Axes>"
      ]
     },
     "metadata": {},
     "output_type": "display_data"
    }
   ],
   "source": [
    "from sklearn.datasets import make_blobs\n",
    "from matplotlib import pyplot as plt\n",
    "import numpy as np\n",
    "\n",
    "X, y = make_blobs(n_samples=200, centers=2, random_state=42)\n",
    "X[:5], y[:5]\n",
    "\n",
    "plt.scatter(X[:,0][y==0],X[:,1][y==0],c='r',s=7,label='class 0')\n",
    "plt.scatter(X[:,0][y==1],X[:,1][y==1],c='b',s=7,label='class 1')\n",
    "plt.legend()"
   ]
  },
  {
   "cell_type": "code",
   "execution_count": null,
   "metadata": {},
   "outputs": [],
   "source": [
    "def visualize_output(X,y,W,b):\n",
    "    a = W\n",
    "\n",
    "    plt.scatter(X[:,0][y==0],X[:,1][y==0],c='r',s=7,label='class 0')\n",
    "    plt.scatter(X[:,0][y==1],X[:,1][y==1],c='b',s=7,label='class 1')\n",
    "\n",
    "    xmin,xmax = X[:,0].min(),X[:,1].min()\n",
    "    y_1,y_2 = a*xmin+b,a*xmax+b\n",
    "    plt.axline((xmin,y_1),(xmax,y_2),c='g')\n"
   ]
  },
  {
   "cell_type": "code",
   "execution_count": null,
   "metadata": {},
   "outputs": [
    {
     "name": "stdout",
     "output_type": "stream",
     "text": [
      "3791.529596000467 1\n",
      "0.945\n"
     ]
    }
   ],
   "source": [
    "class Perceptron:\n",
    "    def __init__(self,eta=0.1,n_iter=50):\n",
    "        self.eta = eta\n",
    "        self.n_iter = n_iter\n",
    "        self.W = None\n",
    "        self.b = None\n",
    "\n",
    "    def weighted_sum(self,X):\n",
    "        # print(X,self.W)\n",
    "        return np.dot(X,self.W) + self.b\n",
    "    \n",
    "    def activation(self,X):\n",
    "        return np.where(self.weighted_sum(X)>=0,1,0)\n",
    "    \n",
    "    def fit(self,X,y):\n",
    "        self.W = np.zeros(X.shape[1]) \n",
    "        self.b = 0\n",
    "        for epoch in range(self.n_iter):\n",
    "            m = X.shape[0]\n",
    "            n = X.shape[1]\n",
    "            for i in range(m):\n",
    "                y_pred = self.activation(X[i])\n",
    "                err = np.abs(y_pred-y[i])\n",
    "                for j in range(n):\n",
    "                    self.W[j] += self.eta*err*X[i,j]\n",
    "                self.b += self.eta*err\n",
    "\n",
    "    def predict(self,X,y):\n",
    "        y_pred = [self.activation(x) for x in X ]\n",
    "        return y_pred\n",
    "\n",
    "pcp = Perceptron()\n",
    "pcp.fit(X,y)\n",
    "\n",
    "\n",
    "y_pred = pcp.predict(X,y)\n",
    "print(np.dot(X[0],pcp.W)+pcp.b,y[0])\n",
    "total = np.count_nonzero(y_pred)/X.shape[0]\n",
    "print(total)\n"
   ]
  },
  {
   "cell_type": "code",
   "execution_count": 22,
   "metadata": {},
   "outputs": [
    {
     "ename": "TypeError",
     "evalue": "'module' object is not callable",
     "output_type": "error",
     "traceback": [
      "\u001b[0;31m---------------------------------------------------------------------------\u001b[0m",
      "\u001b[0;31mTypeError\u001b[0m                                 Traceback (most recent call last)",
      "Cell \u001b[0;32mIn[22], line 1\u001b[0m\n\u001b[0;32m----> 1\u001b[0m \u001b[43mperceptron\u001b[49m\u001b[43m(\u001b[49m\u001b[43mX\u001b[49m\u001b[43m,\u001b[49m\u001b[43my\u001b[49m\u001b[43m,\u001b[49m\u001b[43mepochs\u001b[49m\u001b[38;5;241;43m=\u001b[39;49m\u001b[38;5;241;43m100\u001b[39;49m\u001b[43m,\u001b[49m\u001b[43meta0\u001b[49m\u001b[38;5;241;43m=\u001b[39;49m\u001b[38;5;241;43m0.1\u001b[39;49m\u001b[43m)\u001b[49m\n",
      "Cell \u001b[0;32mIn[21], line 2\u001b[0m, in \u001b[0;36mperceptron\u001b[0;34m(X, y, epochs, eta0)\u001b[0m\n\u001b[1;32m      1\u001b[0m \u001b[38;5;28;01mdef\u001b[39;00m \u001b[38;5;21mperceptron\u001b[39m(X,y,epochs\u001b[38;5;241m=\u001b[39m\u001b[38;5;241m100\u001b[39m,eta0\u001b[38;5;241m=\u001b[39m\u001b[38;5;241m0.1\u001b[39m):\n\u001b[0;32m----> 2\u001b[0m     W \u001b[38;5;241m=\u001b[39m \u001b[43mnp\u001b[49m\u001b[38;5;241;43m.\u001b[39;49m\u001b[43mrandom\u001b[49m\u001b[43m(\u001b[49m\u001b[38;5;241;43m2\u001b[39;49m\u001b[43m)\u001b[49m\n\u001b[1;32m      3\u001b[0m     \u001b[38;5;28mprint\u001b[39m(W)\n",
      "\u001b[0;31mTypeError\u001b[0m: 'module' object is not callable"
     ]
    }
   ],
   "source": [
    "perceptron(X,y,epochs=100,eta0=0.1)"
   ]
  }
 ],
 "metadata": {
  "kernelspec": {
   "display_name": ".venv",
   "language": "python",
   "name": "python3"
  },
  "language_info": {
   "codemirror_mode": {
    "name": "ipython",
    "version": 3
   },
   "file_extension": ".py",
   "mimetype": "text/x-python",
   "name": "python",
   "nbconvert_exporter": "python",
   "pygments_lexer": "ipython3",
   "version": "3.12.3"
  }
 },
 "nbformat": 4,
 "nbformat_minor": 2
}
